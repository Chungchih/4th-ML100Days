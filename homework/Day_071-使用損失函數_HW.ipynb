{
  "nbformat": 4,
  "nbformat_minor": 0,
  "metadata": {
    "colab": {
      "name": "Day71-使用損失函數_HW.ipynb",
      "provenance": [],
      "collapsed_sections": []
    },
    "kernelspec": {
      "display_name": "Python 3",
      "language": "python",
      "name": "python3"
    },
    "language_info": {
      "codemirror_mode": {
        "name": "ipython",
        "version": 3
      },
      "file_extension": ".py",
      "mimetype": "text/x-python",
      "name": "python",
      "nbconvert_exporter": "python",
      "pygments_lexer": "ipython3",
      "version": "3.8.3"
    },
    "accelerator": "TPU"
  },
  "cells": [
    {
      "cell_type": "markdown",
      "metadata": {
        "id": "cj4tE8e8iUtO"
      },
      "source": [
        "#   \n",
        "\n",
        "# 作業目標:\n",
        "\n",
        "    1. 藉由固定的 dataset, 來驗證不同loss function\n",
        "    2. Dataset 的特性跟我們選用的loss function 對accrancy 的影響\n",
        "    \n",
        "    \n",
        "# 作業重點: \n",
        "    請分別選用 \"MSE\", \"binary _crossentropy\"\n",
        "    查看Train/test accurancy and loss rate\n",
        "    "
      ]
    },
    {
      "cell_type": "markdown",
      "metadata": {
        "id": "R51J4KyyiUsL"
      },
      "source": [
        "# 導入必要的函數"
      ]
    },
    {
      "cell_type": "code",
      "metadata": {
        "id": "Qd68OQjciUsM"
      },
      "source": [
        "from keras.datasets import cifar10\n",
        "import numpy as np\n",
        "np.random.seed(10)"
      ],
      "execution_count": 3,
      "outputs": []
    },
    {
      "cell_type": "markdown",
      "metadata": {
        "id": "GxKuzQLQiUsP"
      },
      "source": [
        "# 資料準備"
      ]
    },
    {
      "cell_type": "code",
      "metadata": {
        "colab": {
          "base_uri": "https://localhost:8080/"
        },
        "id": "MIbFZdTCiUsQ",
        "outputId": "62296e8f-a140-4efe-d953-01847ec4c1dd"
      },
      "source": [
        "#取得Keras Dataset\n",
        "(x_img_train,y_label_train),(x_img_test,y_label_test)=cifar10.load_data()"
      ],
      "execution_count": 4,
      "outputs": [
        {
          "output_type": "stream",
          "text": [
            "Downloading data from https://www.cs.toronto.edu/~kriz/cifar-10-python.tar.gz\n",
            "170500096/170498071 [==============================] - 3s 0us/step\n"
          ],
          "name": "stdout"
        }
      ]
    },
    {
      "cell_type": "code",
      "metadata": {
        "colab": {
          "base_uri": "https://localhost:8080/"
        },
        "id": "J8CJVjNOiUsS",
        "outputId": "4bd389fb-df23-406b-e12e-4e1ae0986880"
      },
      "source": [
        "#確認 CIFAR10 Dataset 資料維度\n",
        "print(\"train data:\",'images:',x_img_train.shape,\n",
        "      \" labels:\",y_label_train.shape) \n",
        "print(\"test  data:\",'images:',x_img_test.shape ,\n",
        "      \" labels:\",y_label_test.shape) "
      ],
      "execution_count": 5,
      "outputs": [
        {
          "output_type": "stream",
          "text": [
            "train data: images: (50000, 32, 32, 3)  labels: (50000, 1)\n",
            "test  data: images: (10000, 32, 32, 3)  labels: (10000, 1)\n"
          ],
          "name": "stdout"
        }
      ]
    },
    {
      "cell_type": "code",
      "metadata": {
        "id": "V3P6P4DXiUsV"
      },
      "source": [
        "#資料正規化\n",
        "x_img_train_normalize = x_img_train.astype('float32') / 255.0\n",
        "x_img_test_normalize = x_img_test.astype('float32') / 255.0"
      ],
      "execution_count": 6,
      "outputs": []
    },
    {
      "cell_type": "code",
      "metadata": {
        "colab": {
          "base_uri": "https://localhost:8080/"
        },
        "id": "vsDyjKYliUsX",
        "outputId": "86e1035e-14bd-4b4a-c69b-60456e02606d"
      },
      "source": [
        "#針對Label 做 ONE HOT ENCODE\n",
        "from keras.utils import np_utils\n",
        "y_label_train_OneHot = np_utils.to_categorical(y_label_train)\n",
        "y_label_test_OneHot = np_utils.to_categorical(y_label_test)\n",
        "y_label_test_OneHot.shape"
      ],
      "execution_count": 7,
      "outputs": [
        {
          "output_type": "execute_result",
          "data": {
            "text/plain": [
              "(10000, 10)"
            ]
          },
          "metadata": {
            "tags": []
          },
          "execution_count": 7
        }
      ]
    },
    {
      "cell_type": "markdown",
      "metadata": {
        "id": "RutW2OtgiUsZ"
      },
      "source": [
        "# 建立模型"
      ]
    },
    {
      "cell_type": "code",
      "metadata": {
        "id": "aHz592aXiUsa"
      },
      "source": [
        "from keras.models import Sequential\n",
        "from keras.layers import Dense, Dropout, Activation, Flatten\n",
        "from keras.layers import Conv2D, MaxPooling2D, ZeroPadding2D"
      ],
      "execution_count": 8,
      "outputs": []
    },
    {
      "cell_type": "code",
      "metadata": {
        "id": "hslqrIp0iUse"
      },
      "source": [
        "model = Sequential()"
      ],
      "execution_count": 9,
      "outputs": []
    },
    {
      "cell_type": "code",
      "metadata": {
        "id": "Hqe35hs2iUsi"
      },
      "source": [
        "#卷積層1"
      ],
      "execution_count": 10,
      "outputs": []
    },
    {
      "cell_type": "code",
      "metadata": {
        "id": "ED7dqe1YiUsm"
      },
      "source": [
        "model.add(Conv2D(filters=32,kernel_size=(3,3),\n",
        "                 input_shape=(32, 32,3), \n",
        "                 activation='relu', \n",
        "                 padding='same'))"
      ],
      "execution_count": 11,
      "outputs": []
    },
    {
      "cell_type": "code",
      "metadata": {
        "id": "n-GRKmPViUso"
      },
      "source": [
        "model.add(Dropout(rate=0.25))"
      ],
      "execution_count": 12,
      "outputs": []
    },
    {
      "cell_type": "code",
      "metadata": {
        "id": "GlWnnD1uiUsw"
      },
      "source": [
        "model.add(MaxPooling2D(pool_size=(2, 2)))"
      ],
      "execution_count": 13,
      "outputs": []
    },
    {
      "cell_type": "code",
      "metadata": {
        "id": "nawlkt55iUsy"
      },
      "source": [
        "#卷積層2與池化層2"
      ],
      "execution_count": 14,
      "outputs": []
    },
    {
      "cell_type": "code",
      "metadata": {
        "id": "xxyETiKNiUs1"
      },
      "source": [
        "model.add(Conv2D(filters=64, kernel_size=(3, 3), \n",
        "                 activation='relu', padding='same'))"
      ],
      "execution_count": 15,
      "outputs": []
    },
    {
      "cell_type": "code",
      "metadata": {
        "id": "RqcKWtqGiUs2"
      },
      "source": [
        "model.add(Dropout(0.25))"
      ],
      "execution_count": 16,
      "outputs": []
    },
    {
      "cell_type": "code",
      "metadata": {
        "id": "BUOOzlqfiUs4"
      },
      "source": [
        "model.add(MaxPooling2D(pool_size=(2, 2)))"
      ],
      "execution_count": 17,
      "outputs": []
    },
    {
      "cell_type": "code",
      "metadata": {
        "id": "LpkppB2siUs7"
      },
      "source": [
        "#建立神經網路(平坦層、隱藏層、輸出層)"
      ],
      "execution_count": 18,
      "outputs": []
    },
    {
      "cell_type": "code",
      "metadata": {
        "id": "UQOfU54_iUs_"
      },
      "source": [
        "model.add(Flatten())\n",
        "model.add(Dropout(rate=0.25))"
      ],
      "execution_count": 19,
      "outputs": []
    },
    {
      "cell_type": "code",
      "metadata": {
        "id": "_NV-8sq4iUtD"
      },
      "source": [
        "model.add(Dense(1024, activation='relu'))\n",
        "model.add(Dropout(rate=0.25))"
      ],
      "execution_count": 20,
      "outputs": []
    },
    {
      "cell_type": "code",
      "metadata": {
        "id": "qVK77krOiUtF"
      },
      "source": [
        "model.add(Dense(10, activation='softmax'))"
      ],
      "execution_count": 21,
      "outputs": []
    },
    {
      "cell_type": "code",
      "metadata": {
        "colab": {
          "base_uri": "https://localhost:8080/"
        },
        "id": "ZxzRIjR0iUtH",
        "outputId": "8fc21c6c-8bff-43c4-c3dd-74a64168251c"
      },
      "source": [
        "#檢查model 的STACK\n",
        "print(model.summary())"
      ],
      "execution_count": 22,
      "outputs": [
        {
          "output_type": "stream",
          "text": [
            "Model: \"sequential\"\n",
            "_________________________________________________________________\n",
            "Layer (type)                 Output Shape              Param #   \n",
            "=================================================================\n",
            "conv2d (Conv2D)              (None, 32, 32, 32)        896       \n",
            "_________________________________________________________________\n",
            "dropout (Dropout)            (None, 32, 32, 32)        0         \n",
            "_________________________________________________________________\n",
            "max_pooling2d (MaxPooling2D) (None, 16, 16, 32)        0         \n",
            "_________________________________________________________________\n",
            "conv2d_1 (Conv2D)            (None, 16, 16, 64)        18496     \n",
            "_________________________________________________________________\n",
            "dropout_1 (Dropout)          (None, 16, 16, 64)        0         \n",
            "_________________________________________________________________\n",
            "max_pooling2d_1 (MaxPooling2 (None, 8, 8, 64)          0         \n",
            "_________________________________________________________________\n",
            "flatten (Flatten)            (None, 4096)              0         \n",
            "_________________________________________________________________\n",
            "dropout_2 (Dropout)          (None, 4096)              0         \n",
            "_________________________________________________________________\n",
            "dense (Dense)                (None, 1024)              4195328   \n",
            "_________________________________________________________________\n",
            "dropout_3 (Dropout)          (None, 1024)              0         \n",
            "_________________________________________________________________\n",
            "dense_1 (Dense)              (None, 10)                10250     \n",
            "=================================================================\n",
            "Total params: 4,224,970\n",
            "Trainable params: 4,224,970\n",
            "Non-trainable params: 0\n",
            "_________________________________________________________________\n",
            "None\n"
          ],
          "name": "stdout"
        }
      ]
    },
    {
      "cell_type": "markdown",
      "metadata": {
        "id": "QJCtpJM0iUtJ"
      },
      "source": [
        "# 載入之前訓練的模型"
      ]
    },
    {
      "cell_type": "code",
      "metadata": {
        "colab": {
          "base_uri": "https://localhost:8080/"
        },
        "id": "JU3A6NzQiUtK",
        "outputId": "6bb9b1c8-59b6-41c3-adc9-6def1f5ca087"
      },
      "source": [
        "try:\n",
        "    model.load_weights(\"SaveModel/cifarCnnModel.h5\")\n",
        "    print(\"載入模型成功!繼續訓練模型\")\n",
        "except :    \n",
        "    print(\"載入模型失敗!開始訓練一個新模型\")"
      ],
      "execution_count": 23,
      "outputs": [
        {
          "output_type": "stream",
          "text": [
            "載入模型失敗!開始訓練一個新模型\n"
          ],
          "name": "stdout"
        }
      ]
    },
    {
      "cell_type": "markdown",
      "metadata": {
        "id": "qBbCuziziUtM"
      },
      "source": [
        "# 訓練模型"
      ]
    },
    {
      "cell_type": "code",
      "metadata": {
        "colab": {
          "base_uri": "https://localhost:8080/",
          "height": 35
        },
        "id": "Q6BiBcseiUtP",
        "outputId": "fdcef66e-4e7e-4503-a272-fc17307fbea7"
      },
      "source": [
        "model.compile(loss='MSE', optimizer='sgd', metrics=['accuracy'])\n",
        "\n",
        "'''\n",
        "作業:\n",
        "請分別選用 \"MSE\", \"binary _crossentropy\"\n",
        "查看Train/test accurancy and loss rate\n",
        "'''"
      ],
      "execution_count": 24,
      "outputs": [
        {
          "output_type": "execute_result",
          "data": {
            "application/vnd.google.colaboratory.intrinsic+json": {
              "type": "string"
            },
            "text/plain": [
              "'\\n作業:\\n請分別選用 \"MSE\", \"binary _crossentropy\"\\n查看Train/test accurancy and loss rate\\n'"
            ]
          },
          "metadata": {
            "tags": []
          },
          "execution_count": 24
        }
      ]
    },
    {
      "cell_type": "code",
      "metadata": {
        "colab": {
          "base_uri": "https://localhost:8080/"
        },
        "id": "4-GdDgmQiUtS",
        "outputId": "2de1f9a0-c80a-4af7-8064-453edeae8c7f"
      },
      "source": [
        "train_history = model.fit(x_img_train_normalize, y_label_train_OneHot,\n",
        "                         validation_split=0.25,\n",
        "                         epochs=12, batch_size=128, verbose=1)"
      ],
      "execution_count": 25,
      "outputs": [
        {
          "output_type": "stream",
          "text": [
            "Epoch 1/12\n",
            "293/293 [==============================] - 108s 365ms/step - loss: 0.0908 - accuracy: 0.0978 - val_loss: 0.0901 - val_accuracy: 0.1090\n",
            "Epoch 2/12\n",
            "293/293 [==============================] - 103s 353ms/step - loss: 0.0903 - accuracy: 0.1022 - val_loss: 0.0899 - val_accuracy: 0.1263\n",
            "Epoch 3/12\n",
            "293/293 [==============================] - 103s 351ms/step - loss: 0.0901 - accuracy: 0.1090 - val_loss: 0.0899 - val_accuracy: 0.1245\n",
            "Epoch 4/12\n",
            "293/293 [==============================] - 105s 357ms/step - loss: 0.0900 - accuracy: 0.1136 - val_loss: 0.0898 - val_accuracy: 0.1221\n",
            "Epoch 5/12\n",
            "293/293 [==============================] - 104s 354ms/step - loss: 0.0899 - accuracy: 0.1139 - val_loss: 0.0897 - val_accuracy: 0.1255\n",
            "Epoch 6/12\n",
            "293/293 [==============================] - 102s 348ms/step - loss: 0.0897 - accuracy: 0.1247 - val_loss: 0.0896 - val_accuracy: 0.1294\n",
            "Epoch 7/12\n",
            "293/293 [==============================] - 102s 348ms/step - loss: 0.0897 - accuracy: 0.1268 - val_loss: 0.0896 - val_accuracy: 0.1374\n",
            "Epoch 8/12\n",
            "293/293 [==============================] - 106s 361ms/step - loss: 0.0896 - accuracy: 0.1318 - val_loss: 0.0895 - val_accuracy: 0.1448\n",
            "Epoch 9/12\n",
            "293/293 [==============================] - 110s 374ms/step - loss: 0.0895 - accuracy: 0.1391 - val_loss: 0.0894 - val_accuracy: 0.1538\n",
            "Epoch 10/12\n",
            "293/293 [==============================] - 100s 341ms/step - loss: 0.0893 - accuracy: 0.1457 - val_loss: 0.0893 - val_accuracy: 0.1602\n",
            "Epoch 11/12\n",
            "293/293 [==============================] - 100s 341ms/step - loss: 0.0892 - accuracy: 0.1472 - val_loss: 0.0893 - val_accuracy: 0.1685\n",
            "Epoch 12/12\n",
            "293/293 [==============================] - 100s 343ms/step - loss: 0.0892 - accuracy: 0.1503 - val_loss: 0.0892 - val_accuracy: 0.1738\n"
          ],
          "name": "stdout"
        }
      ]
    },
    {
      "cell_type": "code",
      "metadata": {
        "id": "RvKI0W8kTAeo"
      },
      "source": [
        "import matplotlib.pyplot as plt\n",
        "%matplotlib inline\n",
        "\n",
        "#定義一個繪圖函數\n",
        "def show_train_history(train_acc,test_acc):\n",
        "    plt.plot(train_history.history[train_acc])\n",
        "    plt.plot(train_history.history[test_acc])\n",
        "    plt.title('Train History')\n",
        "    plt.ylabel('Accuracy')\n",
        "    plt.xlabel('Epoch')\n",
        "    plt.legend(['train_acc', 'val_acc'], loc='upper left')\n",
        "    plt.show()"
      ],
      "execution_count": 26,
      "outputs": []
    },
    {
      "cell_type": "code",
      "metadata": {
        "colab": {
          "base_uri": "https://localhost:8080/",
          "height": 295
        },
        "id": "WAiMxpRKTAeo",
        "outputId": "80bc86e7-58d0-45ef-9fc9-2a3893c645c4"
      },
      "source": [
        "show_train_history('accuracy','val_accuracy')"
      ],
      "execution_count": 29,
      "outputs": [
        {
          "output_type": "display_data",
          "data": {
            "image/png": "[encoded data removed]",
            "text/plain": [
              "<Figure size 432x288 with 1 Axes>"
            ]
          },
          "metadata": {
            "tags": [],
            "needs_background": "light"
          }
        }
      ]
    },
    {
      "cell_type": "code",
      "metadata": {
        "id": "o5RAL4METAeo"
      },
      "source": [
        "model.compile(loss='binary_crossentropy', optimizer='sgd', metrics=['accuracy'])"
      ],
      "execution_count": 32,
      "outputs": []
    },
    {
      "cell_type": "code",
      "metadata": {
        "colab": {
          "base_uri": "https://localhost:8080/"
        },
        "id": "OlD8-L22TAeo",
        "outputId": "aac6dbd9-111b-4631-8aa7-49ff8cc9eb14"
      },
      "source": [
        "train_history = model.fit(x_img_train_normalize, y_label_train_OneHot,\n",
        "                         validation_split=0.25,\n",
        "                         epochs=12, batch_size=128, verbose=1)"
      ],
      "execution_count": 33,
      "outputs": [
        {
          "output_type": "stream",
          "text": [
            "Epoch 1/12\n",
            "293/293 [==============================] - 101s 344ms/step - loss: 0.4075 - accuracy: 0.1453 - val_loss: 0.3613 - val_accuracy: 0.1960\n",
            "Epoch 2/12\n",
            "293/293 [==============================] - 100s 343ms/step - loss: 0.3267 - accuracy: 0.1701 - val_loss: 0.3564 - val_accuracy: 0.2455\n",
            "Epoch 3/12\n",
            "293/293 [==============================] - 100s 342ms/step - loss: 0.3202 - accuracy: 0.1888 - val_loss: 0.3515 - val_accuracy: 0.2612\n",
            "Epoch 4/12\n",
            "293/293 [==============================] - 100s 340ms/step - loss: 0.3141 - accuracy: 0.2125 - val_loss: 0.3465 - val_accuracy: 0.2750\n",
            "Epoch 5/12\n",
            "293/293 [==============================] - 101s 344ms/step - loss: 0.3091 - accuracy: 0.2269 - val_loss: 0.3416 - val_accuracy: 0.2809\n",
            "Epoch 6/12\n",
            "293/293 [==============================] - 100s 342ms/step - loss: 0.3050 - accuracy: 0.2417 - val_loss: 0.3375 - val_accuracy: 0.2901\n",
            "Epoch 7/12\n",
            "293/293 [==============================] - 100s 340ms/step - loss: 0.3029 - accuracy: 0.2483 - val_loss: 0.3350 - val_accuracy: 0.2887\n",
            "Epoch 8/12\n",
            "293/293 [==============================] - 100s 340ms/step - loss: 0.3000 - accuracy: 0.2597 - val_loss: 0.3328 - val_accuracy: 0.2924\n",
            "Epoch 9/12\n",
            "293/293 [==============================] - 100s 341ms/step - loss: 0.2976 - accuracy: 0.2720 - val_loss: 0.3308 - val_accuracy: 0.3075\n",
            "Epoch 10/12\n",
            "293/293 [==============================] - 100s 342ms/step - loss: 0.2958 - accuracy: 0.2759 - val_loss: 0.3288 - val_accuracy: 0.3099\n",
            "Epoch 11/12\n",
            "293/293 [==============================] - 100s 342ms/step - loss: 0.2943 - accuracy: 0.2830 - val_loss: 0.3266 - val_accuracy: 0.3173\n",
            "Epoch 12/12\n",
            "293/293 [==============================] - 100s 342ms/step - loss: 0.2921 - accuracy: 0.2939 - val_loss: 0.3257 - val_accuracy: 0.3222\n"
          ],
          "name": "stdout"
        }
      ]
    },
    {
      "cell_type": "code",
      "metadata": {
        "colab": {
          "base_uri": "https://localhost:8080/",
          "height": 295
        },
        "id": "VfUcBsVlTAep",
        "outputId": "ae1670a6-0da3-4ce4-849d-691ea6630cf9"
      },
      "source": [
        "show_train_history('accuracy','val_accuracy')"
      ],
      "execution_count": 34,
      "outputs": [
        {
          "output_type": "display_data",
          "data": {
            "image/png": "[encoded data removed]",
            "text/plain": [
              "<Figure size 432x288 with 1 Axes>"
            ]
          },
          "metadata": {
            "tags": [],
            "needs_background": "light"
          }
        }
      ]
    }
  ]
}