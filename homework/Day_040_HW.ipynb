{
 "cells": [
  {
   "cell_type": "markdown",
   "metadata": {},
   "source": [
    "## [作業重點]\n",
    "使用 Sklearn 中的 Lasso, Ridge 模型，來訓練各種資料集，務必了解送進去模型訓練的**資料型態**為何，也請了解模型中各項參數的意義。\n",
    "\n",
    "機器學習的模型非常多種，但要訓練的資料多半有固定的格式，確保你了解訓練資料的格式為何，這樣在應用新模型時，就能夠最快的上手開始訓練！"
   ]
  },
  {
   "cell_type": "markdown",
   "metadata": {},
   "source": [
    "## 練習時間\n",
    "試著使用 sklearn datasets 的其他資料集 (boston, ...)，來訓練自己的線性迴歸模型，並加上適當的正則化來觀察訓練情形。"
   ]
  },
  {
   "cell_type": "code",
   "execution_count": 18,
   "metadata": {},
   "outputs": [],
   "source": [
    "import numpy as np\n",
    "import matplotlib.pyplot as plt\n",
    "from sklearn import datasets, linear_model\n",
    "from sklearn.model_selection import train_test_split\n",
    "from sklearn.metrics import mean_squared_error"
   ]
  },
  {
   "cell_type": "code",
   "execution_count": 19,
   "metadata": {},
   "outputs": [
    {
     "name": "stdout",
     "output_type": "stream",
     "text": [
      "MSE is 22.418969076567393\n"
     ]
    }
   ],
   "source": [
    "boston = datasets.load_boston()\n",
    "x_train, x_test, y_train, y_test = train_test_split(boston.data, boston.target, test_size=0.1, random_state=2)\n",
    "lr = linear_model.LinearRegression().fit(x_train, y_train)\n",
    "y_pred = lr.predict(x_test)\n",
    "MSE = mean_squared_error(y_test, y_pred)\n",
    "print(f'MSE is {MSE}')"
   ]
  },
  {
   "cell_type": "code",
   "execution_count": 20,
   "metadata": {},
   "outputs": [
    {
     "name": "stdout",
     "output_type": "stream",
     "text": [
      "[-0.08696783  0.04548064 -0.00923989  0.         -0.          2.48373522\n",
      "  0.00414003 -0.94660148  0.30835688 -0.0154487  -0.82739601  0.01132597\n",
      " -0.68671233]\n",
      "MSE is 25.627179918859195\n"
     ]
    }
   ],
   "source": [
    "lasso = linear_model.Lasso(alpha=0.5).fit(x_train, y_train)\n",
    "y_pred = lasso.predict(x_test)\n",
    "MSE = mean_squared_error(y_test, y_pred)\n",
    "print(lasso.coef_)\n",
    "print(f'MSE is {MSE}')"
   ]
  },
  {
   "cell_type": "code",
   "execution_count": 21,
   "metadata": {},
   "outputs": [
    {
     "name": "stdout",
     "output_type": "stream",
     "text": [
      "[-1.10914498e-01  4.37618492e-02 -1.67299997e-02  2.73576405e+00\n",
      " -1.09998868e+01  3.82949772e+00 -4.04590022e-03 -1.36042056e+00\n",
      "  3.19395900e-01 -1.27034915e-02 -9.35934649e-01  1.15840625e-02\n",
      " -5.56671620e-01]\n",
      "MSE is 23.199523517481158\n"
     ]
    }
   ],
   "source": [
    "ridge = linear_model.Ridge(alpha=0.5).fit(x_train, y_train)\n",
    "y_pred = ridge.predict(x_test,)\n",
    "MSE = mean_squared_error(y_test, y_pred)\n",
    "print(ridge.coef_)\n",
    "print(f'MSE is {MSE}')"
   ]
  }
 ],
 "metadata": {
  "kernelspec": {
   "display_name": "Python 3",
   "language": "python",
   "name": "python3"
  },
  "language_info": {
   "codemirror_mode": {
    "name": "ipython",
    "version": 3
   },
   "file_extension": ".py",
   "mimetype": "text/x-python",
   "name": "python",
   "nbconvert_exporter": "python",
   "pygments_lexer": "ipython3",
   "version": "3.8.3"
  }
 },
 "nbformat": 4,
 "nbformat_minor": 2
}
